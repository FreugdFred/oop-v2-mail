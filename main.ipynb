{
 "cells": [
  {
   "cell_type": "code",
   "execution_count": 1,
   "metadata": {},
   "outputs": [],
   "source": [
    "import requests\n",
    "from bs4 import BeautifulSoup\n",
    "\n",
    "\n"
   ]
  },
  {
   "cell_type": "code",
   "execution_count": 2,
   "metadata": {},
   "outputs": [],
   "source": [
    "USERAGENT_REQUEST = {'User-Agent': 'Mozilla/5.0 (X11; Linux x86_64) AppleWebKit/537.11 (KHTML, like Gecko) Chrome/23.0.1271.64 Safari/537.11', 'Accept': 'text/html,application/xhtml+xml,application/xml;q=0.9,*/*;q=0.8', 'Accept-Charset': 'ISO-8859-1,utf-8;q=0.7,*;q=0.3', 'Accept-Encoding': 'none', 'Accept-Language': 'en-US,en;q=0.8', 'Connection': 'keep-alive', 'Content-Encoding': 'gzip', 'Content-Type': 'text/html; charset=utf-8'}\n",
    "\n",
    "\n",
    "html_body = requests.get('https://www.enjoy-woksushi.nl', headers=USERAGENT_REQUEST).text\n",
    "soup = BeautifulSoup(html_body, 'lxml')"
   ]
  },
  {
   "cell_type": "code",
   "execution_count": 3,
   "metadata": {},
   "outputs": [
    {
     "name": "stdout",
     "output_type": "stream",
     "text": [
      "Found the URL: /contact\n"
     ]
    }
   ],
   "source": [
    "CONTACT_LIST = ['over', 'Over', 'team', 'Team', 'Contact', 'contact']\n",
    "\n",
    "\n",
    "for a in soup.find_all('a', href=True):\n",
    "    if any(x in a['href'] for x in CONTACT_LIST):\n",
    "        print(\"Found the URL:\", a['href'])"
   ]
  },
  {
   "cell_type": "code",
   "execution_count": 4,
   "metadata": {},
   "outputs": [
    {
     "data": {
      "text/plain": [
       "'https://www.enjoy-woksushi.nl/contact'"
      ]
     },
     "execution_count": 4,
     "metadata": {},
     "output_type": "execute_result"
    }
   ],
   "source": [
    "def Findcontacthref(html_body, base_url):\n",
    "    soup = BeautifulSoup(html_body, 'lxml')\n",
    "    return next(\n",
    "        (\n",
    "            href_link['href']\n",
    "            if '.' in href_link['href']\n",
    "            else base_url + href_link['href']\n",
    "            for href_link in soup.find_all('a', href=True)\n",
    "            if any(x in href_link['href'] for x in ['over', 'Over', 'team', 'Team', 'Contact', 'contact'])\n",
    "        ),\n",
    "        '',\n",
    "    )\n",
    "    \n",
    "Findcontacthref(html_body, 'https://www.enjoy-woksushi.nl')\n"
   ]
  }
 ],
 "metadata": {
  "kernelspec": {
   "display_name": "Python 3",
   "language": "python",
   "name": "python3"
  },
  "language_info": {
   "codemirror_mode": {
    "name": "ipython",
    "version": 3
   },
   "file_extension": ".py",
   "mimetype": "text/x-python",
   "name": "python",
   "nbconvert_exporter": "python",
   "pygments_lexer": "ipython3",
   "version": "3.11.2"
  },
  "orig_nbformat": 4
 },
 "nbformat": 4,
 "nbformat_minor": 2
}
