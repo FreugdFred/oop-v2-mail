{
 "cells": [
  {
   "cell_type": "code",
   "execution_count": 1,
   "metadata": {},
   "outputs": [],
   "source": [
    "import requests\n",
    "import re\n",
    "\n",
    "\n",
    "req = requests.get('https://vandermeijadvocaten.nl/')\n",
    "html_body = req.text"
   ]
  },
  {
   "cell_type": "code",
   "execution_count": 2,
   "metadata": {},
   "outputs": [
    {
     "name": "stdout",
     "output_type": "stream",
     "text": [
      "['020-6242249']\n"
     ]
    }
   ],
   "source": [
    "phone_set = re.findall(r'(?:^|\\s)(((?:\\+|0{2})(?:49|43|33)[-\\. ]?|0)([1-9]\\d{1,2}[-\\. ]?|\\([1-9]\\d{1,2}\\)[-\\. ]?)(\\d{6,9}|\\d{2,3}[-\\. ]\\d{4,6}))', html_body, re.I)\n",
    "phone_list = list(phone_set[0])\n",
    "validated_phone_list = [phonenumber for phonenumber in phone_list if len(phonenumber) > 9]\n",
    "print(validated_phone_list)"
   ]
  },
  {
   "cell_type": "code",
   "execution_count": 3,
   "metadata": {},
   "outputs": [],
   "source": [
    "with open('page.html', 'w', encoding='UTF-8') as f:\n",
    "    f.write(html_body)"
   ]
  }
 ],
 "metadata": {
  "kernelspec": {
   "display_name": "Python 3",
   "language": "python",
   "name": "python3"
  },
  "language_info": {
   "codemirror_mode": {
    "name": "ipython",
    "version": 3
   },
   "file_extension": ".py",
   "mimetype": "text/x-python",
   "name": "python",
   "nbconvert_exporter": "python",
   "pygments_lexer": "ipython3",
   "version": "3.11.2"
  },
  "orig_nbformat": 4
 },
 "nbformat": 4,
 "nbformat_minor": 2
}
